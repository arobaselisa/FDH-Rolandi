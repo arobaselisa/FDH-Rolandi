{
 "cells": [
  {
   "cell_type": "code",
   "execution_count": 1,
   "metadata": {},
   "outputs": [],
   "source": [
    "import pandas as pd\n",
    "import numpy as np\n",
    "import matplotlib.pyplot as plt\n",
    "import seaborn as sns\n",
    "%matplotlib inline\n",
    "import re\n",
    "import time\n",
    "from datetime import datetime\n",
    "import matplotlib.dates as mdates\n",
    "import matplotlib.ticker as ticker\n",
    "from urllib.request import urlopen\n",
    "from bs4 import BeautifulSoup\n",
    "import json"
   ]
  },
  {
   "cell_type": "markdown",
   "metadata": {},
   "source": [
    "### Web Scrap"
   ]
  },
  {
   "cell_type": "code",
   "execution_count": 2,
   "metadata": {},
   "outputs": [],
   "source": [
    "#URL to scrap\n",
    "url = \"http://dl.cini.it/items/show/36042\"\n",
    "html = urlopen(url)\n",
    "soup = BeautifulSoup(html, 'html')\n",
    "\n",
    "pages = [i.text for i in soup.find_all('a') if 'http://dl.cini.it/oa/items/' in str(i)]\n",
    "lastpage = pages[-1]"
   ]
  },
  {
   "cell_type": "code",
   "execution_count": 3,
   "metadata": {},
   "outputs": [
    {
     "data": {
      "text/plain": [
       "['http://dl.cini.it/oa/items/36042/manifest.json']"
      ]
     },
     "execution_count": 3,
     "metadata": {},
     "output_type": "execute_result"
    }
   ],
   "source": [
    "pages"
   ]
  },
  {
   "cell_type": "code",
   "execution_count": 4,
   "metadata": {},
   "outputs": [],
   "source": [
    "url = pages[0]\n",
    "html = urlopen(url)\n",
    "soup = BeautifulSoup(html, 'html')"
   ]
  },
  {
   "cell_type": "code",
   "execution_count": 5,
   "metadata": {},
   "outputs": [
    {
     "data": {
      "text/plain": [
       "{'@context': 'http://www.shared-canvas.org/ns/context.json',\n",
       " '@id': 'http://dl.cini.it/oa/items/36042/manifest.json',\n",
       " '@type': 'sc:Manifest',\n",
       " 'label': \"Artaserse dramma per musica di Pietro Metastasio fra gli Arcadi Artino Corasio, e poeta di S.M.C. e C. da rappresentarsi in Perugia nel Teatro de' Nobili detto del Pavone nel carnevale dell'anno 1734. Dedicato alle dame della medesima cittÃ\\xa0\",\n",
       " 'sequences': [{'@id': 'http://dl.cini.it/oa/items/36042/sequence.json',\n",
       "   '@type': 'sc:Sequence',\n",
       "   'label': '',\n",
       "   'canvases': [{'@id': 'http://dl.cini.it/oa/items/36042/canvas.json',\n",
       "     'label': 'coperta_4',\n",
       "     '@type': 'sc:Canvas',\n",
       "     'width': 3962,\n",
       "     'height': 4895,\n",
       "     'images': [{'@id': 'http://dl.cini.it/oa/files/36042/anno.json',\n",
       "       'motivation': 'sc:painting',\n",
       "       '@type': 'oa:Annotation',\n",
       "       'resource': {'@id': 'http://dl.cini.it/files/original/856c6c9f9febb3c0b18c9f9d0c3c566f.jpg',\n",
       "        '@type': 'dctypes:Image',\n",
       "        'format': 'image/jpeg',\n",
       "        'width': 3962,\n",
       "        'height': 4895,\n",
       "        'service': {'@id': 'http://dl.cini.it:8080/digilib/Scaler/IIIF/856c6c9f9febb3c0b18c9f9d0c3c566f.jpg',\n",
       "         '@context': 'http://iiif.io/api/image/2/context.json',\n",
       "         'profile': 'http://iiif.io/api/image/2/level2.json'}},\n",
       "       'on': 'http://dl.cini.it/oa/items/36042/canvas.json'}],\n",
       "     'metadata': [{'label': 'Identifier',\n",
       "       'value': '3e14a20a-80da-494b-9680-c99e7066454b'},\n",
       "      {'label': 'originalFileName', 'value': '216854_ROL.1235.06.43.tif'},\n",
       "      {'label': 'cartulazione1', 'value': 'coperta_4'},\n",
       "      {'label': 'exifData',\n",
       "       'value': 'ColorSpace=-1;NativeDigest=36864,40960,40961,37121,37122,40962,40963,37510,40964,36867,36868,33434,33437,34850,34852,34855,34856,37377,37378,37379,37380,37381,37382,37383,37384,37385,37386,37396,41483,41484,41486,41487,41488,41492,41493,41495,41728,41729,41730,41985,41986,41987,41988,41989,41990,41991,41992,41993,41994,41995,41996,42016,0,2,4,5,6,7,8,9,10,11,12,13,14,15,16,17,18,20,22,23,24,25,26,27,28,30;013EEE2EB92EDB287A9753A63EA276EB;PixelXDimension=3962;PixelYDimension=4895'},\n",
       "      {'label': 'filename', 'value': '43.jpg'},\n",
       "      {'label': 'fileMD5', 'value': '5cf56922c66bb7d374843f1ee4302958'}],\n",
       "     'otherContent': [{'@id': 'http://dl.cini.it/oa/items/36042/annolist.json',\n",
       "       '@type': 'sc:AnnotationList'}]}]}],\n",
       " 'metadata': [{'label': 'Identifier',\n",
       "   'value': '3e14a20a-80da-494b-9680-c99e7066454b'},\n",
       "  {'label': 'originalFileName', 'value': '216854_ROL.1235.06.43.tif'},\n",
       "  {'label': 'cartulazione1', 'value': 'coperta_4'},\n",
       "  {'label': 'exifData',\n",
       "   'value': 'ColorSpace=-1;NativeDigest=36864,40960,40961,37121,37122,40962,40963,37510,40964,36867,36868,33434,33437,34850,34852,34855,34856,37377,37378,37379,37380,37381,37382,37383,37384,37385,37386,37396,41483,41484,41486,41487,41488,41492,41493,41495,41728,41729,41730,41985,41986,41987,41988,41989,41990,41991,41992,41993,41994,41995,41996,42016,0,2,4,5,6,7,8,9,10,11,12,13,14,15,16,17,18,20,22,23,24,25,26,27,28,30;013EEE2EB92EDB287A9753A63EA276EB;PixelXDimension=3962;PixelYDimension=4895'},\n",
       "  {'label': 'filename', 'value': '43.jpg'},\n",
       "  {'label': 'fileMD5', 'value': '5cf56922c66bb7d374843f1ee4302958'}],\n",
       " 'service': [{'@context': 'http://iiif.io/api/search/1/context.json',\n",
       "   '@id': 'http://dl.cini.it/oa/items/36042/search',\n",
       "   'label': 'Search this manifest',\n",
       "   'profile': 'http://iiif.io/api/search/1/search'}]}"
      ]
     },
     "execution_count": 5,
     "metadata": {},
     "output_type": "execute_result"
    }
   ],
   "source": [
    "json = json.loads(soup.text)\n",
    "json"
   ]
  },
  {
   "cell_type": "code",
   "execution_count": 6,
   "metadata": {},
   "outputs": [],
   "source": [
    "path = json['sequences'][0]['canvases'][0]['images'][0]['resource']['@id']"
   ]
  },
  {
   "cell_type": "markdown",
   "metadata": {},
   "source": [
    "### OCR"
   ]
  },
  {
   "cell_type": "code",
   "execution_count": 19,
   "metadata": {},
   "outputs": [],
   "source": [
    "def detect_text(path):\n",
    "    \"\"\"Detects text in the file.\"\"\"\n",
    "    from google.cloud import vision\n",
    "    import io\n",
    "    client = vision.ImageAnnotatorClient.from_service_account_json('C:/Users/gonxh/Documents/EPFL/Master/MA3/Foundations of DH/DH - Rolandi Libretti-a52be57f8f03.json')\n",
    "\n",
    "    with io.open(path, 'rb') as image_file:\n",
    "        content = image_file.read()\n",
    "    \n",
    "    image = vision.Image(content=content)\n",
    "\n",
    "    response = client.text_detection(image=image)\n",
    "    texts = response.text_annotations\n",
    "    print('Texts:')\n",
    "\n",
    "    for text in texts:\n",
    "        print('\\n\"{}\"'.format(text.description))\n",
    "\n",
    "        vertices = (['({},{})'.format(vertex.x, vertex.y)\n",
    "                    for vertex in text.bounding_poly.vertices])\n",
    "\n",
    "        print('bounds: {}'.format(','.join(vertices)))\n",
    "\n",
    "    if response.error.message:\n",
    "        raise Exception(\n",
    "            '{}\\nFor more info on error messages, check: '\n",
    "            'https://cloud.google.com/apis/design/errors'.format(\n",
    "                response.error.message))"
   ]
  },
  {
   "cell_type": "code",
   "execution_count": 20,
   "metadata": {
    "scrolled": true
   },
   "outputs": [
    {
     "ename": "AttributeError",
     "evalue": "module 'urllib' has no attribute 'requests'",
     "output_type": "error",
     "traceback": [
      "\u001b[1;31m---------------------------------------------------------------------------\u001b[0m",
      "\u001b[1;31mAttributeError\u001b[0m                            Traceback (most recent call last)",
      "\u001b[1;32m<ipython-input-20-7adf26fbadd7>\u001b[0m in \u001b[0;36m<module>\u001b[1;34m\u001b[0m\n\u001b[1;32m----> 1\u001b[1;33m \u001b[0mdetect_text\u001b[0m\u001b[1;33m(\u001b[0m\u001b[0mpath\u001b[0m\u001b[1;33m)\u001b[0m\u001b[1;33m\u001b[0m\u001b[1;33m\u001b[0m\u001b[0m\n\u001b[0m",
      "\u001b[1;32m<ipython-input-19-14f124c4882f>\u001b[0m in \u001b[0;36mdetect_text\u001b[1;34m(path)\u001b[0m\n\u001b[0;32m      9\u001b[0m \u001b[1;33m\u001b[0m\u001b[0m\n\u001b[0;32m     10\u001b[0m     \u001b[1;32mfrom\u001b[0m \u001b[0mio\u001b[0m \u001b[1;32mimport\u001b[0m \u001b[0mStringIO\u001b[0m\u001b[1;33m\u001b[0m\u001b[1;33m\u001b[0m\u001b[0m\n\u001b[1;32m---> 11\u001b[1;33m     \u001b[0mImage\u001b[0m\u001b[1;33m.\u001b[0m\u001b[0mopen\u001b[0m\u001b[1;33m(\u001b[0m\u001b[0mStringIO\u001b[0m\u001b[1;33m(\u001b[0m\u001b[0murllib\u001b[0m\u001b[1;33m.\u001b[0m\u001b[0mrequests\u001b[0m\u001b[1;33m.\u001b[0m\u001b[0murlopen\u001b[0m\u001b[1;33m(\u001b[0m\u001b[0murl\u001b[0m\u001b[1;33m)\u001b[0m\u001b[1;33m.\u001b[0m\u001b[0mread\u001b[0m\u001b[1;33m(\u001b[0m\u001b[1;33m)\u001b[0m\u001b[1;33m)\u001b[0m\u001b[1;33m)\u001b[0m\u001b[1;33m\u001b[0m\u001b[1;33m\u001b[0m\u001b[0m\n\u001b[0m\u001b[0;32m     12\u001b[0m     \u001b[0mcontent\u001b[0m \u001b[1;33m=\u001b[0m \u001b[0mImage\u001b[0m\u001b[1;33m.\u001b[0m\u001b[0mopen\u001b[0m\u001b[1;33m(\u001b[0m\u001b[0mfile\u001b[0m\u001b[1;33m)\u001b[0m\u001b[1;33m\u001b[0m\u001b[1;33m\u001b[0m\u001b[0m\n\u001b[0;32m     13\u001b[0m \u001b[1;33m\u001b[0m\u001b[0m\n",
      "\u001b[1;31mAttributeError\u001b[0m: module 'urllib' has no attribute 'requests'"
     ]
    }
   ],
   "source": [
    "detect_text(path)"
   ]
  },
  {
   "cell_type": "code",
   "execution_count": null,
   "metadata": {},
   "outputs": [],
   "source": []
  }
 ],
 "metadata": {
  "kernelspec": {
   "display_name": "Python 3",
   "language": "python",
   "name": "python3"
  },
  "language_info": {
   "codemirror_mode": {
    "name": "ipython",
    "version": 3
   },
   "file_extension": ".py",
   "mimetype": "text/x-python",
   "name": "python",
   "nbconvert_exporter": "python",
   "pygments_lexer": "ipython3",
   "version": "3.8.3"
  },
  "toc": {
   "base_numbering": 1,
   "nav_menu": {},
   "number_sections": true,
   "sideBar": true,
   "skip_h1_title": false,
   "title_cell": "Table of Contents",
   "title_sidebar": "Contents",
   "toc_cell": false,
   "toc_position": {},
   "toc_section_display": true,
   "toc_window_display": false
  }
 },
 "nbformat": 4,
 "nbformat_minor": 4
}
