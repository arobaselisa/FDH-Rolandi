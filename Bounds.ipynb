{
 "cells": [
  {
   "cell_type": "code",
   "execution_count": 1,
   "metadata": {},
   "outputs": [],
   "source": [
    "import cv2\n",
    "import numpy as np\n",
    "import os\n",
    "import pandas as pd"
   ]
  },
  {
   "cell_type": "code",
   "execution_count": 2,
   "metadata": {},
   "outputs": [],
   "source": [
    "def define_range(path):\n",
    "    ''' Defining the ranges of the first and second pages '''\n",
    "    # Original image\n",
    "    shape = cv2.imread(path,0).shape\n",
    "    # Range of x_0\n",
    "    x_0_lower = 0\n",
    "    x_0_upper = shape[1]*(4/10)\n",
    "    # Range of x_1\n",
    "    x_1_lower = shape[1]*(4/10) \n",
    "    x_1_upper = shape[1]*(7/10)    \n",
    "\n",
    "    return x_0_lower, x_0_upper, x_1_lower, x_1_upper"
   ]
  },
  {
   "cell_type": "code",
   "execution_count": 3,
   "metadata": {},
   "outputs": [],
   "source": [
    "def change_x(coord, x_0_lower, x_0_upper, x_1_lower, x_1_upper):  \n",
    "    ''' Returns the page where the word is\n",
    "        0 in the first page\n",
    "        1 in the second page\n",
    "        -1 if not in the range '''\n",
    "    \n",
    "    if coord >= x_0_lower and coord <= x_0_upper:\n",
    "        return 0\n",
    "    elif coord >= x_1_lower and coord <= x_1_upper:\n",
    "        return 1\n",
    "    else:\n",
    "        return -1"
   ]
  },
  {
   "cell_type": "code",
   "execution_count": 12,
   "metadata": {},
   "outputs": [],
   "source": [
    "def find_bounds(text, dict_bounds, mask, x_0_lower, x_0_upper, x_1_lower, x_1_upper):\n",
    "    ''' Finds the names and bounds in the image \n",
    "        '''\n",
    "    proba = np.array([])\n",
    "    \n",
    "    # Defining the portion of the height of the box we want to keep\n",
    "    ratio_y = int((text['Bottom_Right_Y'] - text['Top_Left_Y'])*WIDTH_BOX)\n",
    "    # Defining the portion of the width of the box we want to keep\n",
    "    ratio_x = int((text['Bottom_Right_X'] - text['Top_Left_X'])*HEIGHT_BOX)\n",
    "    # Going through every pixel of the reduced box\n",
    "    for y in range(text['Top_Left_Y'] + ratio_y, text['Bottom_Right_Y'] - ratio_y):\n",
    "        for x in range(text['Top_Left_X'] + ratio_x, text['Bottom_Right_X'] - ratio_x):\n",
    "            # Find their associated probability of being a name\n",
    "            proba = np.append(proba, mask[y][x])\n",
    "    # Finding the mean probability of being a name for all the pixels in the reduced box        \n",
    "    mean = proba.mean()\n",
    "    if mean > THRESHOLD_PROBA:\n",
    "        # Finding the page from which \n",
    "        coord_x = change_x(text['Top_Left_X'], x_0_lower, x_0_upper, x_1_lower, x_1_upper)\n",
    "        if coord_x != -1:\n",
    "            if coord_x in dict_bounds:\n",
    "                dict_bounds[coord_x].append((text['Top_Left_Y'], text['Text']))\n",
    "            else:    \n",
    "                dict_bounds[coord_x] = [(text['Top_Left_Y'], text['Text'])]"
   ]
  },
  {
   "cell_type": "code",
   "execution_count": 13,
   "metadata": {},
   "outputs": [],
   "source": [
    "def find_names_one_image(page):\n",
    "    ''' Returns the names and bounds in one image '''\n",
    "    \n",
    "    # Data from segmentation\n",
    "    segmentation_path = \"./data/Antigone/1_Segmentation_results/\" + page + \".npy\"\n",
    "    data = np.load(segmentation_path)\n",
    "    \n",
    "    dict_bounds = dict()\n",
    "    # Create x ranges\n",
    "    x_0_lower, x_0_upper, x_1_lower, x_1_upper = define_range(\"./data/Antigone/0_Images/\" + page + \".jpg\")\n",
    "    # Threshold for name segmentation\n",
    "    mask = np.where(data[1]>THRESHOLD_NAMES,1,0).astype(np.uint8)\n",
    "    \n",
    "    # Load results from OCR\n",
    "    image_df = pd.read_csv('./data/Antigone/2_OCR_results/annotations_' + page + '.csv', index_col=0)\n",
    "    \n",
    "    # Find the names and bounds\n",
    "    image_df.apply(lambda row: find_bounds(row, dict_bounds, mask, x_0_lower, x_0_upper, x_1_lower, x_1_upper), axis=1)\n",
    "    \n",
    "    return dict_bounds\n",
    "                "
   ]
  },
  {
   "cell_type": "code",
   "execution_count": 14,
   "metadata": {},
   "outputs": [],
   "source": [
    "THRESHOLD_NAMES = 0.2\n",
    "WIDTH_BOX = 0.4\n",
    "HEIGHT_BOX = 0.4\n",
    "THRESHOLD_PROBA = 0.7\n",
    "\n",
    "def find_names():\n",
    "    # Going through all the images\n",
    "    for filename in os.listdir(\"./data/Antigone/0_Images\"):\n",
    "        if filename.endswith(\".jpg\"): \n",
    "            file_without_extension = os.path.splitext(filename)[0]\n",
    "            print(file_without_extension)\n",
    "            # Find names in the image\n",
    "            dict_bounds = find_names_one_image(file_without_extension)\n",
    "            print(dict_bounds)\n",
    "            continue\n",
    "        else:\n",
    "            continue"
   ]
  },
  {
   "cell_type": "code",
   "execution_count": 15,
   "metadata": {},
   "outputs": [
    {
     "name": "stdout",
     "output_type": "stream",
     "text": [
      "p12\n",
      "{0: [(76, '30'), (111, 'Lea.'), (159, 'Cre.'), (203, 'Erm.'), (752, 'Cre.')], 1: [(106, 'Lea.'), (124, 'Ale.'), (144, 'Forfe'), (173, 'Eur.'), (240, 'Ant.'), (349, 'Cre.'), (455, 'Eur.'), (520, 'Cre.'), (564, 'Lea.'), (628, 'Ant.'), (672, 'Alc.'), (694, 'Cre.')]}\n",
      "p13\n",
      "{0: [(172, 'Io'), (70, '32'), (413, 'Eur.'), (569, 'Ant.'), (612, 'Eur.'), (636, 'Ant.'), (656, 'Eur.'), (679, 'Deggio'), (697, 'Ant.')], 1: [(114, 'Eur.'), (546, 'Ant.'), (721, 'Lea.'), (742, 'Forfe'), (763, 'Alc.'), (786, 'Alib.')]}\n",
      "p11\n",
      "{0: [(59, '28'), (170, 'Erm.'), (213, 'Alc.'), (278, 'Erm.'), (297, 'Eur.'), (344, 'Erm.'), (386, 'Alc.'), (474, 'Erm.'), (541, 'Eur.'), (583, 'Alc.'), (607, 'Erm.'), (737, 'Cre.')], 1: [(95, 'Lea.'), (137, 'Alc.'), (181, 'Eur.'), (207, 'Cre.'), (229, 'Erm.'), (250, 'Cre.'), (464, 'Erm.'), (489, 'Cre.'), (553, 'Lea.'), (574, 'Eur.'), (617, 'Alc.'), (770, 'Erm,')]}\n",
      "p10\n",
      "{0: [(80, '26'), (256, 'Miferi'), (214, 'Eur.'), (707, 'Fine')], 1: [(288, 'Ale'), (353, 'Eur.'), (612, 'Alc.'), (653, 'Eur.')]}\n",
      "p28\n",
      "{0: [(63, '63'), (236, 'Alc.'), (279, 'Creon.'), (346, 'Alc.'), (411, 'Creon.'), (434, 'Alc.'), (501, 'Lear.'), (566, 'Creon.'), (696, 'Alc.')], 1: [(224, 'Eurif.'), (291, 'Lear.'), (313, 'Già'), (465, 'Trembe,'), (511, 'Erm.'), (534, 'Lear.'), (600, 'Ant.'), (664, 'Erm.'), (707, 'Aut.')]}\n",
      "p14\n",
      "{1: [(92, 'Sento'), (427, 'Lea.'), (463, 'Più'), (788, 'Sen-')], 0: [(74, '34'), (135, 'Ant.'), (418, 'Ale.'), (462, 'Lea.'), (590, 'Alc.'), (677, 'Lea.'), (744, 'Alc.')]}\n",
      "p15\n",
      "{0: [(65, '36'), (415, 'Eur.'), (459, 'Creon.'), (634, 'Eur.'), (677, 'Ajc.'), (724, 'Ant,'), (766, 'Alc.')], 1: [(110, 'Ant.'), (131, 'Crean.'), (156, 'Eur.'), (175, 'Creon.'), (289, 'Ant.'), (332, 'Più'), (352, 'Alc.'), (375, 'Eur.'), (398, 'Creon,'), (461, 'Si'), (569, 'Eur,'), (593, 'Creon.'), (614, 'Eur.'), (655, 'Aut.'), (744, 'Creon.'), (787, '(Sem-')]}\n",
      "p29\n",
      "{0: [(67, '64'), (216, 'Erm.'), (284, 'Ant.'), (347, 'Eurif.'), (370, 'Forfe'), (394, 'Lear.'), (631, 'Alc.'), (676, 'Eurif.'), (699, 'Creon.'), (763, 'Alc.')], 1: [(98, 'Creon.'), (363, 'Aut.'), (406, 'Eurif,'), (426, 'Erm.'), (450, 'Creon.'), (536, 'Ant.'), (580, 'Viva'), (665, 'Ale.'), (689, 'Lear.'), (730, 'Eurif.'), (750, 'Creon.'), (771, 'Lafciami'), (794, 'Cre.')]}\n",
      "p17\n",
      "{0: [(80, '40'), (139, 'Lear.'), (163, 'Ant.'), (181, 'Alc.'), (204, 'Creon.'), (248, 'Ant.'), (314, 'Creon.'), (356, 'Và'), (381, 'Ant.'), (510, 'De'), (532, 'Panitor'), (576, 'Lucido,'), (600, 'Per'), (601, 'cui'), (622, 'Or'), (643, 'Vigor'), (666, 'Numi,'), (755, 'Eur.'), (776, 'Si'), (776, 'và'), (775, 'a'), (775, 'poner')], 1: [(96, 'Erm.'), (119, 'Ant.'), (136, 'A'), (136, 'voi'), (155, 'Arbitre'), (205, 'Mori'), (311, 'Creen.'), (337, 'Eur.'), (357, 'Ant.'), (380, 'Lear.'), (403, 'Alc.'), (424, 'Creon.'), (446, 'Erm.'), (512, 'Creon.'), (533, 'Móra'), (555, 'Eur.'), (619, 'Lear.'), (663, 'Crcon.'), (683, 'Alle'), (725, 'Il'), (771, 'Favella,')]}\n",
      "p16\n",
      "{0: [(82, '38'), (97, 'Ant.'), (119, 'Ad'), (147, 'Eur.'), (232, 'Learco,'), (276, 'di'), (297, 'Tempio,'), (340, 'Lear.'), (386, 'La'), (408, 'Creon.'), (425, 'Eur.'), (495, 'nia,'), (539, 'Erm.'), (648, 'Alc.')], 1: [(89, 'Per'), (197, 'Eur.'), (220, 'Ant.'), (263, 'Erm.'), (372, 'Creon.'), (440, 'Ele.'), (461, 'Creon.'), (505, 'Erm.'), (549, 'Creon.'), (465, 'fo-'), (592, 'Erm.'), (614, 'Nurai'), (633, 'Deb'), (632, 'fe'), (656, 'Oggi'), (677, 'Tanto'), (698, 'Or'), (720, 'Separarfi'), (742, 'Placatevi'), (763, 'Lo'), (763, 'fdegno'), (794, 'Per')]}\n",
      "p9\n",
      "{0: [(72, '24'), (221, 'Erm.'), (267, 'Ant.'), (331, 'Erm.'), (406, 'parte'), (417, 'Lea.'), (462, 'Alc.'), (756, 'parte')], 1: [(245, 'Ant.'), (352, 'Eur.'), (441, 'Ant.'), (464, 'Eur.'), (485, 'Ant.'), (505, 'Penfa'), (791, 'Alib.')]}\n",
      "p8\n",
      "{0: [(76, '22'), (241, 'Ant.'), (287, 'Erm.'), (310, 'Eur.'), (329, 'Ant.'), (549, 'Cre.'), (573, 'Ant.'), (725, 'Erm.'), (745, 'Ak.'), (766, 'Lea.')], 1: [(99, 'Cre.'), (141, 'Ant.'), (162, 'Cre.'), (210, 'Ant.'), (431, 'Cre.'), (501, 'Ant.'), (586, 'Cre.')]}\n",
      "p3\n",
      "{0: [(79, '13'), (206, 'Alc.'), (229, 'Cre.'), (251, 'Eur.'), (271, 'Alc.'), (316, 'Cre.'), (446, 'Ale.'), (515, 'Lea.'), (532, 'Eur.'), (580, 'Cre.'), (603, 'Eur.'), (731, 'Cre.')], 1: [(86, 'Eur.'), (109, 'Per'), (131, 'Cre.'), (660, 'Lea.'), (704, 'Eur.'), (796, 'Ear.')]}\n",
      "p2\n",
      "{0: [(79, '10'), (184, 'Eur.'), (273, 'Cre.'), (380, 'Lea.'), (426, 'Ear.'), (537, 'Cre.')], 1: [(138, 'Lea.'), (205, 'Cre.'), (228, 'Per'), (337, 'Da'), (356, 'Non'), (381, 'Se'), (378, 'delle'), (402, 'Won'), (403, 'fa'), (424, 'Il'), (422, 'Node'), (447, 'La'), (452, 'man,'), (448, 'pace'), (469, 'Che'), (487, 'E'), (514, 'Eur.'), (537, 'Lea.'), (558, 'Cre.'), (689, 'Eur.'), (712, 'Cre.'), (754, 'Eur.'), (773, 'Lea.')]}\n",
      "p1\n",
      "{0: [(219, 'Padre'), (237, 'Il'), (296, 'detto'), (315, 'Il'), (353, 'Il'), (413, 'Il'), (471, 'Il'), (501, 'La'), (558, '3Macfiro'), (633, 'Inventore,e'), (674, 'Inventere,'), (698, 'Sartore')], 1: [(195, 'Luogo'), (309, 'Creonte'), (328, 'altri'), (399, 'Cre.'), (681, 'Eur.'), (728, 'Cre.'), (772, 'Se'), (794, 'Alib.'), (790, 'AT:')]}\n",
      "p5\n",
      "{0: [(74, '16'), (92, 'Ant.'), (203, 'Eur.'), (226, 'Erm.'), (270, 'Ant.'), (465, 'Erm.'), (621, 'Senza')], 1: [(192, 'Ant.'), (235, 'Eur.'), (367, 'Ant.'), (521, 'Bur.'), (610, 'Ant.'), (675, 'Eur.')]}\n",
      "p4\n",
      "{0: [(74, '14'), (86, 'Lea.'), (199, 'Eur.'), (244, 'Lea.'), (526, 'Enrifce,'), (616, 'Eur.'), (660, 'Veggio'), (679, 'Erm.'), (748, 'Ant.')], 1: [(83, 'Ear.'), (128, 'Erm.'), (148, 'Ant.'), (168, 'Eur.'), (217, 'Erm.'), (236, 'Eur.'), (262, 'Erm.'), (346, 'Ant.'), (373, 'Eur.'), (414, 'Ant.'), (482, 'Eur.'), (655, 'Ant.'), (702, 'Erm.'), (742, 'Eur.')]}\n",
      "p6\n",
      "{0: [(111, 'Ant.'), (240, 'Exr.'), (310, 'Ant.'), (462, 'Eur.'), (481, 'Ant.'), (638, 'Eur.'), (660, 'Ant.')], 1: [(126, 'Exr.'), (214, 'Ant.'), (346, 'Eur.'), (788, 'Per-')]}\n",
      "p7\n",
      "{0: [(78, '20'), (181, 'Aut.')], 1: [(271, 'Corone'), (292, 'Cuflodi'), (314, 'Antigona'), (376, 'Scenda'), (553, 'Alc.'), (598, 'Erm.'), (616, 'Eur.(Già'), (641, 'Cre.'), (688, 'Ant.'), (752, 'Cre.')]}\n",
      "p27\n",
      "{0: [(98, 'Erm.'), (78, '60'), (144, 'Ant.'), (160, 'Erm.'), (181, 'Eur.'), (208, 'Erm.'), (232, '43.'), (491, 'Alc.'), (536, 'Lea.'), (643, 'Alc.')], 1: [(223, 'Lea.'), (266, 'Cr'), (264, 'con.'), (354, 'Lean.'), (421, 'Creon.'), (485, 'Lear.'), (591, 'Antigona,'), (658, 'Ant.'), (720, 'Eurif.'), (738, 'Creon.'), (788, 'SCE-')]}\n",
      "p26\n",
      "{0: [(274, 'Ant.'), (426, 'Erm.'), (470, 'Lea.'), (510, 'Per'), (536, 'Alc.'), (691, 'Ear.'), (733, 'Vieni'), (759, 'Erm.')], 1: [(136, 'Ant.'), (207, 'Eur.'), (252, 'Erm.'), (312, 'Ant.'), (402, 'Erm.'), (425, 'Eur.'), (487, 'Ant.'), (533, 'Erm.'), (575, 'a'), (662, 'Eur.'), (705, 'Erm.'), (749, 'Ant.'), (771, 'Eur.')]}\n",
      "p30\n",
      "{0: [(67, '66'), (88, 'Ant.'), (353, 'Vivi'), (583, 'IL')]}\n",
      "p24\n",
      "{0: [(67, '$4.'), (149, 'Cre.'), (437, 'Perfidi,'), (544, 'ad')], 1: [(253, 'Lea.'), (295, 'Scender'), (317, 'Ear.'), (338, 'Ant.'), (360, 'Eur.'), (382, 'Sdegnata'), (403, 'Ant.'), (426, 'So'), (490, 'Eur.'), (512, 'Però'), (528, 'Aut.'), (553, 'Alc.'), (573, 'Erm.'), (596, 'So'), (619, 'Lea.'), (640, 'Ant.'), (705, 'Eur.'), (725, 'Ant.')]}\n",
      "p18\n",
      "{0: [(64, '42'), (208, 'Ant.'), (335, 'Creon.'), (360, 'Aut.'), (449, 'Eur.'), (493, 'Ce.'), (534, 'Ant.'), (559, 'Cre.'), (647, 'Per'), (666, 'Eur.'), (710, 'Cre.'), (753, 'Aut.')], 1: [(261, 'Peri'), (563, 'Cre.'), (607, 'Alc.'), (651, 'Erm.')]}\n",
      "p19\n",
      "{0: [(65, '44'), (189, 'Exr.'), (228, 'Pietà.'), (275, 'Cre.'), (384, 'Eur.'), (429, 'Cre.'), (451, 'Eur.'), (497, 'Che'), (739, 'Son')], 1: [(283, 'Cre.'), (586, 'Furore,')]}\n",
      "p25\n",
      "{0: [(399, 'Alc.'), (468, 'Ant.'), (511, 'Alc.'), (535, 'Ant.')], 1: [(183, 'Eur.'), (207, 'Ant.'), (248, 'Alc.'), (289, 'Aut.'), (335, 'Alc.'), (362, 'Ant.'), (378, 'Alc.'), (403, 'La'), (425, 'Ant.'), (508, 'Alc.'), (576, 'Erm.'), (597, 'Eur.'), (617, 'Ant.'), (641, 'Lea.'), (661, 'Alc.'), (790, 'Alib.')]}\n",
      "p21\n",
      "{0: [(209, 'Per'), (56, '48'), (469, 'Lea.'), (600, 'Erm.'), (622, 'Lea.'), (709, 'Erm.'), (751, 'Lea.')], 1: [(93, 'Se'), (136, 'Erm.'), (396, 'Se'), (657, 'Lea.'), (698, 'Che'), (786, 'Alib.'), (777, 'Se')]}\n",
      "p20\n",
      "{0: [(139, 'Sopra'), (80, '46'), (352, 'Fine')], 1: [(298, 'Erm.'), (342, 'Lea.'), (406, 'Eur.'), (561, 'Erm.'), (605, 'Eur.'), (626, 'Ma'), (668, 'Erm.'), (692, 'Eur.'), (706, 'Che'), (797, 'Alik.')]}\n",
      "p22\n",
      "{0: [(74, '50'), (505, 'Luogo'), (638, 'Ant')], 1: [(561, 'Learco,'), (645, 'Lea.'), (709, 'Ant.'), (753, 'Della')]}\n",
      "p23\n"
     ]
    },
    {
     "name": "stdout",
     "output_type": "stream",
     "text": [
      "{0: [(89, 'Cre.'), (133, 'altrove.'), (220, 'Eur.'), (245, 'Erm.'), (267, 'Lea.'), (311, 'Cre.'), (572, 'Eur.'), (595, 'Cre.'), (727, 'Eur.'), (750, 'Cre.')], 1: [(354, 'Ant.'), (528, 'Cre.'), (636, 'Eur.'), (697, 'Cre.'), (721, 'Eur.')]}\n"
     ]
    }
   ],
   "source": [
    "find_names()"
   ]
  },
  {
   "cell_type": "code",
   "execution_count": null,
   "metadata": {},
   "outputs": [],
   "source": []
  },
  {
   "cell_type": "code",
   "execution_count": null,
   "metadata": {},
   "outputs": [],
   "source": []
  }
 ],
 "metadata": {
  "kernelspec": {
   "display_name": "Python [conda env:anaconda3-fdh] *",
   "language": "python",
   "name": "conda-env-anaconda3-fdh-py"
  },
  "language_info": {
   "codemirror_mode": {
    "name": "ipython",
    "version": 3
   },
   "file_extension": ".py",
   "mimetype": "text/x-python",
   "name": "python",
   "nbconvert_exporter": "python",
   "pygments_lexer": "ipython3",
   "version": "3.8.5"
  }
 },
 "nbformat": 4,
 "nbformat_minor": 4
}
