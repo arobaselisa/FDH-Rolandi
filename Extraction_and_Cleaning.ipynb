{
 "cells": [
  {
   "cell_type": "code",
   "execution_count": 2,
   "metadata": {},
   "outputs": [],
   "source": [
    "import cv2\n",
    "import numpy as np\n",
    "import os\n",
    "import pandas as pd\n",
    "import json\n",
    "import collections\n",
    "import string\n",
    "import re"
   ]
  },
  {
   "cell_type": "markdown",
   "metadata": {},
   "source": [
    "# Load data"
   ]
  },
  {
   "cell_type": "code",
   "execution_count": 8,
   "metadata": {},
   "outputs": [],
   "source": [
    "def load_json_in_dict(path):\n",
    "    ''' Loads ordered dictionnary of bounds per pages and per coordinates from a json file'''\n",
    "    with open(path) as json_file: \n",
    "        return json.load(json_file)"
   ]
  },
  {
   "cell_type": "code",
   "execution_count": 9,
   "metadata": {},
   "outputs": [],
   "source": [
    "data = load_json_in_dict(\"./data/Antigone/2_OCR_results/Antigone.json\")"
   ]
  },
  {
   "cell_type": "code",
   "execution_count": 7,
   "metadata": {},
   "outputs": [],
   "source": [
    "import io \n",
    "from nltk.corpus import stopwords\n",
    "from nltk.tokenize import word_tokenize \n",
    "\n",
    "def remove_stopwords(text):\n",
    "    ''' Remove stopwords in all kind of cases '''\n",
    "    stop_words = stopwords.words('italian')+[word.title() for word in stopwords.words('italian')]+[word.upper() for word in stopwords.words('italian')]\n",
    "    text_tokens = word_tokenize(text)\n",
    "    tokens_without_sw = [word for word in text_tokens if not word in stop_words]\n",
    "    return tokens_without_sw\n",
    "\n",
    "def extract_all_attributes(data):\n",
    "    '''Extract all atributes extracted by OCR in order, whithout storing coordinated or pages'''\n",
    "    elements = np.empty(shape=(0,2))\n",
    "    # for each page of the libretto\n",
    "    for page in range(len(data)):\n",
    "        # for each left and/or right page\n",
    "        for ind in data[page][1].keys():\n",
    "            # extract elements in the order they appear, without storing coordinates or pages\n",
    "            elements = np.concatenate((elements, np.array(data[page][1][ind])[:, 1:]), axis = 0)\n",
    "    return elements\n",
    "\n",
    "def extract_attribute(elements, attribute):\n",
    "    '''Extract elements in order from specific attribute'''\n",
    "    # Extract text from specific attribute\n",
    "    text_list = [row[1] for row in elements if attribute in row[0]]\n",
    "    # Create string\n",
    "    text = \" \".join(text_list)\n",
    "    # Remove digits\n",
    "    text = ''.join([i for i in text if not i.isdigit()])\n",
    "    # Remove punctuations\n",
    "    text = text.translate(str.maketrans(dict.fromkeys(string.punctuation)))\n",
    "    # Remove stopwords\n",
    "    text = remove_stopwords(text)\n",
    "    return text"
   ]
  },
  {
   "cell_type": "code",
   "execution_count": 12,
   "metadata": {},
   "outputs": [],
   "source": [
    "all_attributes = extract_all_attributes(data)\n",
    "description = extract_attribute(all_attributes, 'Description')\n",
    "names = extract_attribute(all_attributes, 'Name')\n",
    "scenes = extract_attribute(all_attributes, 'Scene')"
   ]
  },
  {
   "cell_type": "markdown",
   "metadata": {},
   "source": [
    "# Extract Names"
   ]
  },
  {
   "cell_type": "code",
   "execution_count": 10,
   "metadata": {},
   "outputs": [],
   "source": [
    "def extract_names_abbreviations(names, top_N):\n",
    "    '''Extract top-N most common abbreviation names'''\n",
    "    names_abbreviations = []\n",
    "    frequent_names = collections.Counter(names).most_common(top_N)\n",
    "    for name, count in frequent_names:\n",
    "        names_abbreviations.append(name)\n",
    "    return list(set(names_abbreviations))\n",
    "\n",
    "def list_patterns(names_abbreviations):\n",
    "    '''Create list of patterns from abbreviation names'''\n",
    "    patterns = list(map('.*'.join, names_abbreviations))\n",
    "    correct_patterns = []\n",
    "    for pattern in patterns:\n",
    "        correct_patterns.append(pattern.replace(\".*\", \"\", 1) + \".*\")\n",
    "    return correct_patterns\n",
    "\n",
    "def filter_pattern(pattern, datalist):\n",
    "    '''Filter list of abbreviations by pattern'''\n",
    "    occurences = [val for val in datalist if re.search(pattern, val)]\n",
    "    if len(occurences) > 0:\n",
    "        return occurences\n",
    "    else:\n",
    "        return []\n",
    "\n",
    "def find_complete_name(pattern, text):\n",
    "    '''Returns most common name who follows the pattern'''\n",
    "    occurences = filter_pattern(pattern, text)\n",
    "    most_common_name = collections.Counter(occurences).most_common(1)\n",
    "    if (len(most_common_name) > 0) and (len(occurences) > 0):\n",
    "        return most_common_name[0][0], list(set(occurences))\n",
    "    \n",
    "def extract_complete_names(names, description):\n",
    "    '''Extract list of characters names and their respective similar names'''\n",
    "    names_abbreviations = extract_names_abbreviations(names, 10)\n",
    "    patterns = list_patterns(names_abbreviations)\n",
    "\n",
    "    dic = {}\n",
    "    for pattern in patterns:\n",
    "        name, name_mappings = find_complete_name(pattern, description)\n",
    "        if name != None:\n",
    "            if name in dic:\n",
    "                dic[name] = list(set(dic[name] + name_mappings))\n",
    "            else:\n",
    "                dic[name] = list(set(name_mappings))\n",
    "    return dic"
   ]
  },
  {
   "cell_type": "code",
   "execution_count": 13,
   "metadata": {},
   "outputs": [
    {
     "data": {
      "text/plain": [
       "{'Eurifteo': ['Euritleo',\n",
       "  'Eur',\n",
       "  'Euriftec',\n",
       "  'Eurifleo',\n",
       "  'Euriftco',\n",
       "  'Eurifteo',\n",
       "  'Eurifico'],\n",
       " 'Creonte': ['Creonte', 'Creente'],\n",
       " 'Alcefte': ['Alcefie', 'Alceie', 'Alcefle', 'Alcefte'],\n",
       " 'Learco': ['Learto', 'Learcoe', 'Learco', 'Learce'],\n",
       " 'Autigona': ['Autigona', 'Aut', 'Autigo'],\n",
       " 'Ermione': ['ErmioneudiftiIl', 'Ermione', 'Erm', 'Ermiene', 'dErmione'],\n",
       " 'Antigona': ['dAntiope',\n",
       "  'fudettoedAntigont',\n",
       "  'dAntigona',\n",
       "  'Antigona',\n",
       "  'Antigoua',\n",
       "  'Antigana',\n",
       "  'Ant']}"
      ]
     },
     "execution_count": 13,
     "metadata": {},
     "output_type": "execute_result"
    }
   ],
   "source": [
    "dic = extract_complete_names(names, description)\n",
    "dic"
   ]
  },
  {
   "cell_type": "code",
   "execution_count": 14,
   "metadata": {},
   "outputs": [
    {
     "data": {
      "text/plain": [
       "{'Autigona': ['dAntiope',\n",
       "  'fudettoedAntigont',\n",
       "  'Aut',\n",
       "  'Autigo',\n",
       "  'Autigona',\n",
       "  'dAntigona',\n",
       "  'Antigona',\n",
       "  'Antigoua',\n",
       "  'Antigana',\n",
       "  'Ant']}"
      ]
     },
     "execution_count": 14,
     "metadata": {},
     "output_type": "execute_result"
    }
   ],
   "source": [
    "from difflib import SequenceMatcher as sm\n",
    "\n",
    "dic_new = {}\n",
    "names_keys = list(dic.keys())\n",
    "names_values = list(dic.values())\n",
    "\n",
    "for i in range(len(names_keys)):\n",
    "    for j in range(i+1, len(names_keys)):\n",
    "        if(sm(None, names_keys[i], names_keys[j]).ratio() >= 0.60):            \n",
    "            if names_keys[i] in dic_new.keys():\n",
    "                dic_new[names_keys[i]].extend(names_values[i])\n",
    "                dic_new[names_keys[i]].extend(names_values[j])\n",
    "            else:\n",
    "                dic_new[names_keys[i]] = names_values[i]\n",
    "                dic_new[names_keys[i]].extend(names_values[j])\n",
    "#        else:\n",
    "#            if names_keys[i] in dic_new.keys():\n",
    "#                dic_new[names_keys[i]].extend(names_values[i])\n",
    "#            else:\n",
    "#                dic_new[names_keys[i]] = names_values[i]\n",
    "dic_new = {k:list(set(j)) for k,j in dic_new.items()}\n",
    "dic_new"
   ]
  },
  {
   "cell_type": "markdown",
   "metadata": {},
   "source": [
    "# Correct Scenes"
   ]
  },
  {
   "cell_type": "code",
   "execution_count": 15,
   "metadata": {},
   "outputs": [],
   "source": [
    "def clean_scenes_and_acts(attributes_clean):\n",
    "    ''' Adds the acts in the attributes\n",
    "        And stores the scenes as numbers '''\n",
    "    count_scene = 0\n",
    "    count_act = 0\n",
    "    mask = np.ones((np.shape(all_attributes)))\n",
    "    # Goes through all the list\n",
    "    for i, att in enumerate(all_attributes):\n",
    "        # through all the text that has the 'Scene' tag\n",
    "        if (att[0]=='Scene'):\n",
    "            # Remove punctuation and case\n",
    "            word = att[1].lower().translate(str.maketrans(dict.fromkeys(string.punctuation)))\n",
    "            # If a scene is the first one, we add the begining of an act\n",
    "            if (word=='prima'):\n",
    "                count_act += 1\n",
    "                count_scene = 0\n",
    "                attributes_clean[i] = ['Act', count_act]\n",
    "            # Detects the scene, stores its number\n",
    "            elif (word=='scena'):\n",
    "                count_scene += 1\n",
    "                attributes_clean[i] = ['Scene', count_scene]\n",
    "            else:\n",
    "            # Otherwise, we will delete this row\n",
    "                mask[i] = 0\n",
    "    # Delete rows that we don't need anymore\n",
    "    attributes_clean = attributes_clean[mask.astype(np.bool)]\n",
    "    attributes_clean = attributes_clean.reshape(int(np.shape(attributes_clean)[0]/2), 2)\n",
    "    return attributes_clean"
   ]
  },
  {
   "cell_type": "code",
   "execution_count": 16,
   "metadata": {},
   "outputs": [],
   "source": [
    "scenes_clean = clean_scenes_and_acts(all_attributes)"
   ]
  },
  {
   "cell_type": "code",
   "execution_count": null,
   "metadata": {},
   "outputs": [],
   "source": []
  }
 ],
 "metadata": {
  "kernelspec": {
   "display_name": "dh_segment",
   "language": "python",
   "name": "dh_segment"
  },
  "language_info": {
   "codemirror_mode": {
    "name": "ipython",
    "version": 3
   },
   "file_extension": ".py",
   "mimetype": "text/x-python",
   "name": "python",
   "nbconvert_exporter": "python",
   "pygments_lexer": "ipython3",
   "version": "3.6.12"
  },
  "toc": {
   "base_numbering": 1,
   "nav_menu": {},
   "number_sections": true,
   "sideBar": true,
   "skip_h1_title": false,
   "title_cell": "Table of Contents",
   "title_sidebar": "Contents",
   "toc_cell": false,
   "toc_position": {},
   "toc_section_display": true,
   "toc_window_display": false
  }
 },
 "nbformat": 4,
 "nbformat_minor": 4
}
