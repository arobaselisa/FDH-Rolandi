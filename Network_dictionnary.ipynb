{
 "cells": [
  {
   "cell_type": "code",
   "execution_count": 1,
   "metadata": {},
   "outputs": [],
   "source": [
    "import cv2\n",
    "import numpy as np\n",
    "import os\n",
    "import pandas as pd\n",
    "import json\n",
    "import collections\n",
    "import string\n",
    "import re"
   ]
  },
  {
   "cell_type": "code",
   "execution_count": 2,
   "metadata": {},
   "outputs": [],
   "source": [
    "def load_json_in_dict(path):\n",
    "    ''' \n",
    "    Loads ordered dictionnary of bounds per pages and per coordinates from a json file\n",
    "    :param string path: where all data of libretto is stored, as explained above\n",
    "    '''\n",
    "    with open(path) as json_file: \n",
    "        return json.load(json_file)"
   ]
  },
  {
   "cell_type": "code",
   "execution_count": 3,
   "metadata": {},
   "outputs": [],
   "source": [
    "data = load_json_in_dict(\"./data/Antigone/3_Network/network.json\")"
   ]
  },
  {
   "cell_type": "code",
   "execution_count": 146,
   "metadata": {},
   "outputs": [],
   "source": [
    "# Create links\n",
    "network_array_links = pd.DataFrame(columns=['source', 'target'])\n",
    "network_array_nodes = pd.DataFrame(columns=['id'])\n",
    "for act in data.keys():\n",
    "    name= \"act\"+act\n",
    "    network_array_links[name] = 0\n",
    "    network_array_nodes[name] = 0\n",
    "    for scene_i in data[act].keys():\n",
    "        characters = sorted(list(data[act][scene_i].keys()))\n",
    "        for i, character_i in enumerate(characters):\n",
    "            if not network_array_nodes['id'][network_array_nodes['id'].isin([character_i])].empty:\n",
    "                network_array_nodes.loc[network_array_nodes['id']==character_i, name] += 1\n",
    "            else:\n",
    "                network_array_nodes = network_array_nodes.append({\"id\":character_i, name:1}, ignore_index=True)\n",
    "\n",
    "            for character_j in characters[i+1:]:\n",
    "                if not network_array_links['source'][network_array_links['source'].isin([character_i])].empty:\n",
    "                    char_i = network_array_links['source']==character_i\n",
    "                    if not network_array_links[char_i]['target'][network_array_links[char_i]['target'].isin([character_j])].empty:\n",
    "                        char_j = network_array_links['target']==character_j\n",
    "                        network_array_links.loc[char_i & char_j, name] += 1\n",
    "                    else:\n",
    "                        network_array_links = network_array_links.append({\"source\":character_i, \"target\":character_j, name:1}, ignore_index=True)\n",
    "                else:\n",
    "                    network_array_links = network_array_links.append({\"source\":character_i, \"target\":character_j, name:1}, ignore_index=True)"
   ]
  },
  {
   "cell_type": "code",
   "execution_count": 149,
   "metadata": {},
   "outputs": [
    {
     "data": {
      "text/plain": [
       "{'nodes': [{'id': 'Creonte', 'act1': 3, 'act2': 6, 'act3': 5},\n",
       "  {'id': 'Eurifteo', 'act1': 8, 'act2': 8, 'act3': 6},\n",
       "  {'id': 'Learco', 'act1': 6, 'act2': 6, 'act3': 10},\n",
       "  {'id': 'Alcefte', 'act1': 3, 'act2': 8, 'act3': 4},\n",
       "  {'id': 'Antigona', 'act1': 6, 'act2': 6, 'act3': 6},\n",
       "  {'id': 'Ermione', 'act1': 3, 'act2': 3, 'act3': 6}],\n",
       " 'links': [{'source': 'Creonte',\n",
       "   'target': 'Eurifteo',\n",
       "   'act1': 3,\n",
       "   'act2': 5,\n",
       "   'act3': 3},\n",
       "  {'source': 'Creonte', 'target': 'Learco', 'act1': 3, 'act2': 3, 'act3': 4},\n",
       "  {'source': 'Eurifteo', 'target': 'Learco', 'act1': 5, 'act2': 3, 'act3': 5},\n",
       "  {'source': 'Alcefte', 'target': 'Creonte', 'act1': 2, 'act2': 4, 'act3': 2},\n",
       "  {'source': 'Alcefte', 'target': 'Eurifteo', 'act1': 2, 'act2': 6, 'act3': 2},\n",
       "  {'source': 'Alcefte', 'target': 'Learco', 'act1': 3, 'act2': 5, 'act3': 4},\n",
       "  {'source': 'Antigona', 'target': 'Ermione', 'act1': 3, 'act2': 1, 'act3': 4},\n",
       "  {'source': 'Antigona',\n",
       "   'target': 'Eurifteo',\n",
       "   'act1': 4,\n",
       "   'act2': 4,\n",
       "   'act3': 5},\n",
       "  {'source': 'Antigona', 'target': 'Learco', 'act1': 3, 'act2': 4, 'act3': 4},\n",
       "  {'source': 'Ermione', 'target': 'Eurifteo', 'act1': 2, 'act2': 3, 'act3': 5},\n",
       "  {'source': 'Ermione', 'target': 'Learco', 'act1': 3, 'act2': 2, 'act3': 6},\n",
       "  {'source': 'Alcefte', 'target': 'Antigona', 'act1': 2, 'act2': 4, 'act3': 2},\n",
       "  {'source': 'Alcefte', 'target': 'Ermione', 'act1': 2, 'act2': 3, 'act3': 2},\n",
       "  {'source': 'Antigona', 'target': 'Creonte', 'act1': 1, 'act2': 3, 'act3': 3},\n",
       "  {'source': 'Creonte', 'target': 'Ermione', 'act1': 1, 'act2': 2, 'act3': 2}]}"
      ]
     },
     "execution_count": 149,
     "metadata": {},
     "output_type": "execute_result"
    }
   ],
   "source": [
    "network = {\"nodes\": network_array_nodes.to_dict('records'), \"links\": network_array_links.to_dict('records')}\n",
    "network"
   ]
  },
  {
   "cell_type": "code",
   "execution_count": 150,
   "metadata": {},
   "outputs": [],
   "source": [
    "def save_dict_in_json(dictionnary, path):\n",
    "    ''' Saves ordered dictionnary of bounds per pages and per coordinates in a json file'''\n",
    "    with open(path, \"w\") as outfile:  \n",
    "        json.dump(dictionnary, outfile) "
   ]
  },
  {
   "cell_type": "code",
   "execution_count": 151,
   "metadata": {},
   "outputs": [],
   "source": [
    "save_dict_in_json(network, \"./data/Antigone/3_Network/network_2.json\")"
   ]
  },
  {
   "cell_type": "code",
   "execution_count": null,
   "metadata": {},
   "outputs": [],
   "source": []
  }
 ],
 "metadata": {
  "kernelspec": {
   "display_name": "Python 3",
   "language": "python",
   "name": "python3"
  },
  "language_info": {
   "codemirror_mode": {
    "name": "ipython",
    "version": 3
   },
   "file_extension": ".py",
   "mimetype": "text/x-python",
   "name": "python",
   "nbconvert_exporter": "python",
   "pygments_lexer": "ipython3",
   "version": "3.8.3"
  },
  "toc": {
   "base_numbering": 1,
   "nav_menu": {},
   "number_sections": true,
   "sideBar": true,
   "skip_h1_title": false,
   "title_cell": "Table of Contents",
   "title_sidebar": "Contents",
   "toc_cell": false,
   "toc_position": {},
   "toc_section_display": true,
   "toc_window_display": false
  }
 },
 "nbformat": 4,
 "nbformat_minor": 4
}
