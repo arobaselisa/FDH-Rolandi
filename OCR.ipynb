{
 "cells": [
  {
   "cell_type": "code",
   "execution_count": 1,
   "metadata": {},
   "outputs": [],
   "source": [
    "from google.cloud import vision\n",
    "import io\n",
    "import os\n",
    "import numpy as np\n",
    "import pandas as pd\n",
    "from tqdm import tqdm\n",
    "import cv2\n",
    "from PIL import Image"
   ]
  },
  {
   "cell_type": "code",
   "execution_count": 2,
   "metadata": {},
   "outputs": [],
   "source": [
    "# Path to google private keys on personnal computers\n",
    "KEY_GONXHE = 'C:/Users/gonxh/Documents/EPFL/Master/MA3/Foundations_of_DH/DH - Rolandi Libretti-a52be57f8f03.json'\n",
    "KEY_ELISA = '/Users/elisamichelet/Documents/EPFLMaster/FDH/Projet/private_key.json'"
   ]
  },
  {
   "cell_type": "code",
   "execution_count": 3,
   "metadata": {},
   "outputs": [],
   "source": [
    "def resize_image(file_without_extension):\n",
    "    ''' Resizes the image to make it the same size as the segmentation output '''\n",
    "    #Load npy\n",
    "    image_path = \"./data/Antigone/0_Images/\" + file_without_extension + \".jpg\"\n",
    "    segmentation_path = \"./data/Antigone/1_Segmentation_results/\" + file_without_extension + \".npy\"\n",
    "    # Output data\n",
    "    data = np.load(segmentation_path)\n",
    "    # Resize original image (test)\n",
    "    img = cv2.imread(image_path,0)\n",
    "    img = cv2.resize(img, (np.shape(data)[2], np.shape(data)[1]))\n",
    "    img = Image.fromarray(img)\n",
    "    img.save(image_path)"
   ]
  },
  {
   "cell_type": "code",
   "execution_count": 4,
   "metadata": {},
   "outputs": [],
   "source": [
    "def make_df(texts, filename):\n",
    "    ''' Saves a dataframe with the text in the image and its coordinates '''\n",
    "    df = pd.DataFrame()\n",
    "    for text in texts[1:]:\n",
    "        df_row = pd.DataFrame({\"Text\":[text.description], \n",
    "                    \"Top_Left_X\":[text.bounding_poly.vertices[0].x],\n",
    "                    \"Top_Left_Y\":[text.bounding_poly.vertices[0].y],\n",
    "                    \"Bottom_Right_X\":[text.bounding_poly.vertices[2].x],\n",
    "                    \"Bottom_Right_Y\":[text.bounding_poly.vertices[2].y]}) \n",
    "        df = df.append(df_row, ignore_index=True)\n",
    "    df.to_csv('./data/Antigone/2_OCR_results/annotations_' + filename + '.csv')  "
   ]
  },
  {
   "cell_type": "code",
   "execution_count": 5,
   "metadata": {},
   "outputs": [],
   "source": [
    "def detect_text(filename, key_path):\n",
    "    ''' Performs the OCR on one image '''\n",
    "    \n",
    "    # Google client\n",
    "    client = vision.ImageAnnotatorClient.from_service_account_json(key_path)\n",
    "    \n",
    "    # Image to OCR\n",
    "    with io.open(\"./data/Antigone/0_Images/\" + filename + \".jpg\", 'rb') as image_file:\n",
    "        content = image_file.read()   \n",
    "    # OCR\n",
    "    image = vision.Image(content=content)\n",
    "    response = client.text_detection(image=image)\n",
    "    texts = response.text_annotations\n",
    "    \n",
    "    # Saving result in a dataframe\n",
    "    make_df(texts, filename)\n",
    "    \n"
   ]
  },
  {
   "cell_type": "code",
   "execution_count": 6,
   "metadata": {},
   "outputs": [],
   "source": [
    "def OCR(key_path):\n",
    "    ''' Performs the OCR on the entire libretto '''\n",
    "    \n",
    "    # Going through all the images\n",
    "    for filename in os.listdir(\"./data/Antigone/0_Images\"):\n",
    "        if filename.endswith(\".jpg\"): \n",
    "            file_without_extension = os.path.splitext(filename)[0]\n",
    "            # Resize image\n",
    "            resize_image(file_without_extension)\n",
    "            # OCR\n",
    "            detect_text(file_without_extension, key_path)\n",
    "            continue\n",
    "        else:\n",
    "            continue\n",
    "    "
   ]
  },
  {
   "cell_type": "code",
   "execution_count": 7,
   "metadata": {},
   "outputs": [],
   "source": [
    "OCR(KEY_ELISA)"
   ]
  },
  {
   "cell_type": "code",
   "execution_count": null,
   "metadata": {},
   "outputs": [],
   "source": []
  }
 ],
 "metadata": {
  "kernelspec": {
   "display_name": "Python [conda env:anaconda3-fdh] *",
   "language": "python",
   "name": "conda-env-anaconda3-fdh-py"
  },
  "language_info": {
   "codemirror_mode": {
    "name": "ipython",
    "version": 3
   },
   "file_extension": ".py",
   "mimetype": "text/x-python",
   "name": "python",
   "nbconvert_exporter": "python",
   "pygments_lexer": "ipython3",
   "version": "3.8.5"
  }
 },
 "nbformat": 4,
 "nbformat_minor": 4
}
