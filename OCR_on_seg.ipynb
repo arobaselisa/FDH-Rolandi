{
 "cells": [
  {
   "cell_type": "code",
   "execution_count": 17,
   "metadata": {},
   "outputs": [],
   "source": [
    "def detect_text(path):\n",
    "    \"\"\"\n",
    "    Detects text in the file.\n",
    "    Arguments: path (path to local saved image)\n",
    "    \"\"\"\n",
    "    from google.cloud import vision\n",
    "    import io\n",
    "    client = vision.ImageAnnotatorClient.from_service_account_json('/Users/elisamichelet/Documents/EPFLMaster/FDH/Projet/private_key.json')\n",
    "\n",
    "    with io.open(path, 'rb') as image_file:\n",
    "        content = image_file.read()\n",
    "    \n",
    "    image = vision.Image(content=content)\n",
    "\n",
    "    response = client.text_detection(image=image)\n",
    "    texts = response.text_annotations\n",
    "    \n",
    "    text_result = \"\"\n",
    "    bounds = dict()\n",
    "    \n",
    "    #Traiter le texte pour qu'il s'append\n",
    "    for text in texts:\n",
    "        text_result += \" \" + text.description\n",
    "        #Inital formating of dictionary of top left vertices forming the box\n",
    "        bound = [text.bounding_poly.vertices[0].x, text.description]\n",
    "        if text.description in bounds:\n",
    "            bounds[text.bounding_poly.vertices[0].y].append(bound)\n",
    "        else:\n",
    "            bounds[text.bounding_poly.vertices[0].y] = [bound]            \n",
    "\n",
    "    if response.error.message:\n",
    "        raise Exception(\n",
    "            '{}\\nFor more info on error messages, check: '\n",
    "            'https://cloud.google.com/apis/design/errors'.format(\n",
    "                response.error.message))\n",
    "    return text_result, bounds"
   ]
  },
  {
   "cell_type": "code",
   "execution_count": 25,
   "metadata": {},
   "outputs": [
    {
     "data": {
      "text/plain": [
       "(' Fil.\\nGir.\\nIr.\\nLr.\\nFil\\nLe\\nGil.\\nVal.\\nGil.\\nGil\\n Fil. Gir. Ir. Lr. Fil Le Gil. Val. Gil. Gil',\n",
       " {89: [[125, 'Fil.']],\n",
       "  109: [[121, 'Gir.']],\n",
       "  329: [[134, 'Ir.']],\n",
       "  408: [[142, 'Lr.']],\n",
       "  471: [[131, 'Fil']],\n",
       "  492: [[137, 'Le']],\n",
       "  699: [[563, 'Gil.']],\n",
       "  737: [[570, 'Val.']],\n",
       "  759: [[561, 'Gil.']],\n",
       "  825: [[874, 'Gil']]})"
      ]
     },
     "execution_count": 25,
     "metadata": {},
     "output_type": "execute_result"
    }
   ],
   "source": [
    "detect_text('./data/segmented_images/9000_names.png')"
   ]
  },
  {
   "cell_type": "code",
   "execution_count": null,
   "metadata": {},
   "outputs": [],
   "source": []
  }
 ],
 "metadata": {
  "kernelspec": {
   "display_name": "Python 3",
   "language": "python",
   "name": "python3"
  },
  "language_info": {
   "codemirror_mode": {
    "name": "ipython",
    "version": 3
   },
   "file_extension": ".py",
   "mimetype": "text/x-python",
   "name": "python",
   "nbconvert_exporter": "python",
   "pygments_lexer": "ipython3",
   "version": "3.8.5"
  }
 },
 "nbformat": 4,
 "nbformat_minor": 2
}
