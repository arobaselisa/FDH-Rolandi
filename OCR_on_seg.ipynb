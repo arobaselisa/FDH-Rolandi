{
 "cells": [
  {
   "cell_type": "code",
   "execution_count": 124,
   "metadata": {},
   "outputs": [],
   "source": [
    "import cv2\n",
    "import numpy as np\n",
    "\n",
    "def define_range(path):\n",
    "    # Original image\n",
    "    shape = cv2.imread(path,0).shape\n",
    "    # Range of x_0\n",
    "    x_0_lower = 0\n",
    "    x_0_upper = shape[1]*(4/10)\n",
    "    # Range of x_1\n",
    "    x_1_lower = shape[1]*(4/10) \n",
    "    x_1_upper = shape[1]*(7/10)    \n",
    "\n",
    "    return x_0_lower, x_0_upper, x_1_lower, x_1_upper"
   ]
  },
  {
   "cell_type": "code",
   "execution_count": 125,
   "metadata": {},
   "outputs": [],
   "source": [
    "def change_x(coord, x_0_lower, x_0_upper, x_1_lower, x_1_upper):  \n",
    "    if coord >= x_0_lower and coord <= x_0_upper:\n",
    "        return 0\n",
    "    elif coord >= x_1_lower and coord <= x_1_upper:\n",
    "        return 1\n",
    "    else:\n",
    "        return -1"
   ]
  },
  {
   "cell_type": "code",
   "execution_count": 126,
   "metadata": {},
   "outputs": [
    {
     "data": {
      "text/plain": [
       "{0: [(47, 'Ant', 'NAMES'), (48, 'SCENA1', 'SCENES')]}"
      ]
     },
     "execution_count": 126,
     "metadata": {},
     "output_type": "execute_result"
    }
   ],
   "source": [
    "{0: [(47, 'Ant', 'NAMES'), (48, 'SCENA1', 'SCENES')]}"
   ]
  },
  {
   "cell_type": "code",
   "execution_count": 134,
   "metadata": {},
   "outputs": [],
   "source": [
    "def detect_text(path):\n",
    "    \"\"\"\n",
    "    Detects text in the file.\n",
    "    Arguments: path (path to local saved image)\n",
    "    \"\"\"\n",
    "    from google.cloud import vision\n",
    "    import io\n",
    "\n",
    "    #client = vision.ImageAnnotatorClient.from_service_account_json('/Users/elisamichelet/Documents/EPFLMaster/FDH/Projet/private_key.json')\n",
    "    client = vision.ImageAnnotatorClient.from_service_account_json('C:/Users/gonxh/Documents/EPFL/Master/MA3/Foundations_of_DH/DH - Rolandi Libretti-a52be57f8f03.json')\n",
    "\n",
    "    with io.open(path, 'rb') as image_file:\n",
    "        content = image_file.read()\n",
    "    \n",
    "    image = vision.Image(content=content)\n",
    "\n",
    "    response = client.text_detection(image=image)\n",
    "    texts = response.text_annotations\n",
    "    \n",
    "    text_result = \"\"\n",
    "    dict_bounds = dict()\n",
    "    \n",
    "    #Créer ranges de x\n",
    "    x_0_lower, x_0_upper, x_1_lower, x_1_upper = define_range(path)\n",
    "    \n",
    "    #Traiter le texte pour qu'il s'append\n",
    "    for text in texts:\n",
    "        text_result += \" \" + text.description\n",
    "        coord_x = change_x(text.bounding_poly.vertices[0].x, x_0_lower, x_0_upper, x_1_lower, x_1_upper)\n",
    "        \n",
    "        if coord_x != -1:\n",
    "            #TODO (NAMES, SCENES)\n",
    "            if coord_x in dict_bounds:\n",
    "                dict_bounds[coord_x].append((text.bounding_poly.vertices[0].y, text.description))\n",
    "            else:    \n",
    "                dict_bounds[coord_x] = [(text.bounding_poly.vertices[0].y, text.description)]\n",
    "\n",
    "    if response.error.message:\n",
    "        raise Exception(\n",
    "            '{}\\nFor more info on error messages, check: '\n",
    "            'https://cloud.google.com/apis/design/errors'.format(\n",
    "                response.error.message))\n",
    "    return dict_bounds"
   ]
  },
  {
   "cell_type": "code",
   "execution_count": 135,
   "metadata": {},
   "outputs": [
    {
     "data": {
      "text/plain": [
       "{1: [(111,\n",
       "   'Ant.\\nCreon.\\nEur.\\nCreon\\nAnt.\\nPiu\\nAlc.\\nBur.\\nCreon,\\nEur,\\nCreon.\\nEur.\\nAut.\\nCreon.\\nll con\\n(Sem-\\n'),\n",
       "  (111, 'Ant.'),\n",
       "  (133, 'Creon.'),\n",
       "  (158, 'Eur.'),\n",
       "  (179, 'Creon'),\n",
       "  (285, 'Ant.'),\n",
       "  (335, 'Piu'),\n",
       "  (351, 'Alc.'),\n",
       "  (373, 'Bur.'),\n",
       "  (397, 'Creon,'),\n",
       "  (572, 'Eur,'),\n",
       "  (593, 'Creon.'),\n",
       "  (615, 'Eur.'),\n",
       "  (657, 'Aut.'),\n",
       "  (747, 'Creon.'),\n",
       "  (765, 'll'),\n",
       "  (764, 'con'),\n",
       "  (785, '(Sem-')]}"
      ]
     },
     "execution_count": 135,
     "metadata": {},
     "output_type": "execute_result"
    }
   ],
   "source": [
    "detect_text('./data/segmented_images/p15_names.png')"
   ]
  },
  {
   "cell_type": "code",
   "execution_count": null,
   "metadata": {},
   "outputs": [],
   "source": []
  },
  {
   "cell_type": "code",
   "execution_count": null,
   "metadata": {},
   "outputs": [],
   "source": []
  }
 ],
 "metadata": {
  "kernelspec": {
   "display_name": "Python 3",
   "language": "python",
   "name": "python3"
  },
  "language_info": {
   "codemirror_mode": {
    "name": "ipython",
    "version": 3
   },
   "file_extension": ".py",
   "mimetype": "text/x-python",
   "name": "python",
   "nbconvert_exporter": "python",
   "pygments_lexer": "ipython3",
   "version": "3.8.3"
  },
  "toc": {
   "base_numbering": 1,
   "nav_menu": {},
   "number_sections": true,
   "sideBar": true,
   "skip_h1_title": false,
   "title_cell": "Table of Contents",
   "title_sidebar": "Contents",
   "toc_cell": false,
   "toc_position": {},
   "toc_section_display": true,
   "toc_window_display": false
  }
 },
 "nbformat": 4,
 "nbformat_minor": 2
}
