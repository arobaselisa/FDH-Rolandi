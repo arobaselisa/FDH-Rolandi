{
 "cells": [
  {
   "cell_type": "code",
   "execution_count": 3,
   "metadata": {},
   "outputs": [],
   "source": [
    "import cv2\n",
    "import numpy as np\n",
    "\n",
    "def define_range(path):\n",
    "    # Original image\n",
    "    shape = cv2.imread(path,0).shape\n",
    "    # Range of x_0\n",
    "    x_0_lower = 2/10\n",
    "    x_0_upper = shape[1]*(4/10)\n",
    "    # Range of x_1\n",
    "    x_1_lower = shape[1]*(6/10) \n",
    "    x_1_upper = shape[1]*(8/10)    \n",
    "\n",
    "    return x_0_lower, x_0_upper, x_1_lower, x_1_upper"
   ]
  },
  {
   "cell_type": "code",
   "execution_count": 4,
   "metadata": {},
   "outputs": [],
   "source": [
    "def change_x(coord, x_0_lower, x_0_upper, x_1_lower, x_1_upper):  \n",
    "    if coord >= x_0_lower and coord <= x_0_upper:\n",
    "        return 0\n",
    "    elif coord >= x_1_lower and coord <= x_1_upper:\n",
    "        return 1\n",
    "    else:\n",
    "        return -1"
   ]
  },
  {
   "cell_type": "markdown",
   "metadata": {},
   "source": [
    "* Faire OCR\n",
    "* Pour toutes les box retournée par l'OCR, on les associe aux prob que DH-Segment à retourner et on fait la moyenne\n",
    "* Choisir une threshold pour les proba"
   ]
  },
  {
   "cell_type": "code",
   "execution_count": 40,
   "metadata": {},
   "outputs": [],
   "source": [
    "from tqdm import tqdm\n",
    "from PIL import Image\n",
    "\n",
    "\n",
    "def detect_box(path):\n",
    "    \"\"\"\n",
    "    Detects text in the file.\n",
    "    Arguments: path (path to local saved image)\n",
    "    \"\"\"\n",
    "    from google.cloud import vision\n",
    "    import io\n",
    "\n",
    "    #client = vision.ImageAnnotatorClient.from_service_account_json('/Users/elisamichelet/Documents/EPFLMaster/FDH/Projet/private_key.json')\n",
    "    client = vision.ImageAnnotatorClient.from_service_account_json('C:/Users/gonxh/Documents/EPFL/Master/MA3/Foundations_of_DH/DH - Rolandi Libretti-a52be57f8f03.json')\n",
    "\n",
    "    #Load npy\n",
    "    segmentation_path = \"./data/results_segmentation/p7.npy\"\n",
    "    # Output data\n",
    "    data = np.load(segmentation_path)\n",
    "    # Resize original image (test)\n",
    "    img = cv2.imread(path,0)\n",
    "    img = cv2.resize(img, (np.shape(data)[2], np.shape(data)[1]))\n",
    "    img = Image.fromarray(img)\n",
    "    img.save(\"./data/test_antigone/p7.png\" )\n",
    "\n",
    "    \n",
    "    with io.open(\"./data/test_antigone/p7.png\", 'rb') as image_file:\n",
    "        content = image_file.read()\n",
    "    \n",
    "    image = vision.Image(content=content)\n",
    "\n",
    "    response = client.text_detection(image=image)\n",
    "    texts = response.text_annotations\n",
    "    \n",
    "    text_result = \"\"\n",
    "    dict_bounds = dict()\n",
    "    #Créer ranges de x\n",
    "    x_0_lower, x_0_upper, x_1_lower, x_1_upper = define_range(\"./data/test_antigone/p7.png\")\n",
    "    \n",
    "    # Threshold for name segmentation\n",
    "    mask = np.where(data[2]>0.2,1,0).astype(np.uint8)\n",
    "    #Traiter le texte pour qu'il s'append\n",
    "    #TODO: vérifier que première ligne doit dégager\n",
    "    for text in tqdm(texts[1:]):\n",
    "        proba = np.array([])\n",
    "        top_left = text.bounding_poly.vertices[0]\n",
    "        bottom_right = text.bounding_poly.vertices[2]\n",
    "        \n",
    "        # Pour chaque coordonnée y\n",
    "        ratio_y = int((bottom_right.y - top_left.y)*0.4)\n",
    "        ratio_x = int((bottom_right.x - top_left.x)*0.4)\n",
    "        for y in range(top_left.y + ratio_y, bottom_right.y - ratio_y):\n",
    "            # On parcout la largeur de l'image\n",
    "            for x in range(top_left.x + ratio_x, bottom_right.x - ratio_x):\n",
    "                proba = np.append(proba, mask[y][x])\n",
    "            \n",
    "        mean = proba.mean()\n",
    "        if mean > 0.7:\n",
    "            coord_x = change_x(text.bounding_poly.vertices[0].x, x_0_lower, x_0_upper, x_1_lower, x_1_upper)\n",
    "            if coord_x != -1:\n",
    "                #TODO (NAMES, SCENES)\n",
    "                if coord_x in dict_bounds:\n",
    "                    dict_bounds[coord_x].append((text.bounding_poly.vertices[0].y, text.description))\n",
    "                else:    \n",
    "                    dict_bounds[coord_x] = [(text.bounding_poly.vertices[0].y, text.description)]\n",
    "                \n",
    "    return dict_bounds"
   ]
  },
  {
   "cell_type": "code",
   "execution_count": 41,
   "metadata": {},
   "outputs": [
    {
     "name": "stderr",
     "output_type": "stream",
     "text": [
      "100%|███████████████████████████████████████████████████████████████████████████████| 285/285 [00:00<00:00, 285.86it/s]\n"
     ]
    },
    {
     "data": {
      "text/plain": [
       "{0: [(118, 'SCENA'), (116, 'VI.')],\n",
       " 1: [(114, 'SCENA'), (113, 'VII.'), (182, 'per'), (177, 'li')]}"
      ]
     },
     "execution_count": 41,
     "metadata": {},
     "output_type": "execute_result"
    }
   ],
   "source": [
    "detect_box('./data/test_images/p7.jpg')"
   ]
  },
  {
   "cell_type": "code",
   "execution_count": null,
   "metadata": {},
   "outputs": [],
   "source": []
  },
  {
   "cell_type": "code",
   "execution_count": null,
   "metadata": {},
   "outputs": [],
   "source": []
  }
 ],
 "metadata": {
  "kernelspec": {
   "display_name": "Python 3",
   "language": "python",
   "name": "python3"
  },
  "language_info": {
   "codemirror_mode": {
    "name": "ipython",
    "version": 3
   },
   "file_extension": ".py",
   "mimetype": "text/x-python",
   "name": "python",
   "nbconvert_exporter": "python",
   "pygments_lexer": "ipython3",
   "version": "3.8.3"
  },
  "toc": {
   "base_numbering": 1,
   "nav_menu": {},
   "number_sections": true,
   "sideBar": true,
   "skip_h1_title": false,
   "title_cell": "Table of Contents",
   "title_sidebar": "Contents",
   "toc_cell": false,
   "toc_position": {},
   "toc_section_display": true,
   "toc_window_display": false
  }
 },
 "nbformat": 4,
 "nbformat_minor": 2
}
