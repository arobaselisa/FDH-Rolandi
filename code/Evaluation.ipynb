{
 "cells": [
  {
   "cell_type": "code",
   "execution_count": 1,
   "metadata": {},
   "outputs": [],
   "source": [
    "from zss import simple_distance, Node\n",
    "import json\n",
    "import pandas as pd\n",
    "import matplotlib.pyplot as plt\n",
    "import seaborn as sns"
   ]
  },
  {
   "cell_type": "code",
   "execution_count": 2,
   "metadata": {},
   "outputs": [],
   "source": [
    "def load_json_in_dict(path):\n",
    "    ''' \n",
    "    Loads ordered dictionnary of bounds per pages and per coordinates from a json file\n",
    "    :param string path: where all data of libretto is stored, as explained above\n",
    "    '''\n",
    "    with open(path) as json_file: \n",
    "        return json.load(json_file)"
   ]
  },
  {
   "cell_type": "code",
   "execution_count": 3,
   "metadata": {},
   "outputs": [],
   "source": [
    "def create_tree(libretto, gt = False):\n",
    "    ''' \n",
    "    Creates a tree structure of the desired libretto for the computation of the later similarity distance\n",
    "    :param string libretto: the name of the libretto we want to process\n",
    "    :param boolean gt, default=False: if gt==True, we select the ground_truth dataset, else we select the predicted one.\n",
    "    '''\n",
    "    # Load data\n",
    "    data = \"\"\n",
    "    if gt:\n",
    "        data = load_json_in_dict(\"./data/\"+libretto+\"/3_Network/network_truth.json\")\n",
    "    else:\n",
    "        data = load_json_in_dict(\"./data/\"+libretto+\"/3_Network/network.json\")\n",
    "    \n",
    "    # Create tree root\n",
    "    tree = Node(libretto)\n",
    "    # Create nodes\n",
    "    for act in data.keys():\n",
    "        node_act = Node(act)\n",
    "        for scene in data[act].keys():\n",
    "            node_scene = Node(scene)\n",
    "            for char in data[act][scene].keys():\n",
    "                # Create leaves\n",
    "                for i in range(data[act][scene][char]):\n",
    "                    node_scene.addkid(Node(char))\n",
    "            node_act.addkid(node_scene)\n",
    "        tree.addkid(node_act)\n",
    "    return (tree)"
   ]
  },
  {
   "cell_type": "code",
   "execution_count": 4,
   "metadata": {},
   "outputs": [],
   "source": [
    "# Compute the similarity distance from the gorund-truth and the predicted libretto\n",
    "libretto = 'Gli'\n",
    "\n",
    "def compute_similarity(libretto):\n",
    "    ''' \n",
    "    Computes the similarity distance of one libretto, based on its ground-truth and predicted data\n",
    "    :param string libretto: the name of the libretto we want to process\n",
    "    '''\n",
    "    # Create the tree from the ground-truth data\n",
    "    gt_tree = create_tree(libretto, gt = True)\n",
    "    # Create the tree from the predicted data\n",
    "    predicted_tree = create_tree(libretto, gt = False)\n",
    "    return simple_distance(gt_tree, predicted_tree)"
   ]
  },
  {
   "cell_type": "code",
   "execution_count": 5,
   "metadata": {},
   "outputs": [
    {
     "data": {
      "text/plain": [
       "258.0"
      ]
     },
     "execution_count": 5,
     "metadata": {},
     "output_type": "execute_result"
    }
   ],
   "source": [
    "compute_similarity(libretto)"
   ]
  },
  {
   "cell_type": "code",
   "execution_count": 6,
   "metadata": {},
   "outputs": [],
   "source": [
    "def create_subtree(act, scene, data):\n",
    "    ''' \n",
    "    Creates a sub-tree structure of the desired libretto for the computation of the later similarity distance.\n",
    "    It creates a sub-tree where the root is a predefined scene in a predefined act.\n",
    "    :param string act: the act of the libretto we want to process\n",
    "    :param string scene: the scene of the libretto we want to process\n",
    "    :param dict data: the json data file of the libretto we want to process\n",
    "    '''\n",
    "    # Create root\n",
    "    node_scene = Node(scene)\n",
    "    for char in data[act][scene].keys():\n",
    "        # Create leaves\n",
    "        for i in range(data[act][scene][char]):\n",
    "            node_scene.addkid(Node(char))\n",
    "    return node_scene"
   ]
  },
  {
   "cell_type": "code",
   "execution_count": 7,
   "metadata": {},
   "outputs": [],
   "source": [
    "def distance_scenes(data_gt, data_predict, act, scene):\n",
    "    ''' \n",
    "    Compute the similarity distance for the sub-tree structures of the desired libretto.\n",
    "    The sub-tree has as the root a predefined scene from a predefined act.\n",
    "    :param zss.Node data_gt: the ground-truth tree\n",
    "    :param zss.Node data_predict: the predicted tree\n",
    "    :param string act: the act of the libretto we want to process\n",
    "    :param string scene: the scene of the libretto we want to process\n",
    "    '''\n",
    "    # Create sub-trees\n",
    "    node_scene_gt = create_subtree(act, scene, data_gt)\n",
    "    node_scene_predict = create_subtree(act, scene, data_predict)\n",
    "    \n",
    "    dist = simple_distance(node_scene_gt, node_scene_predict) \n",
    "    return dist"
   ]
  },
  {
   "cell_type": "code",
   "execution_count": 8,
   "metadata": {},
   "outputs": [],
   "source": [
    "def plot_distances(libretto, data_gt, data_predict): \n",
    "    ''' \n",
    "    Plot the similarity distance for the sub-tree structures of the desired libretto.\n",
    "    This will permit to get the number of errors encountered per scene and per act\n",
    "    :param string libretto: the name of the libretto we want to process\n",
    "    :param zss.Node data_gt: the ground-truth tree\n",
    "    :param zss.Node data_predict: the predicted tree\n",
    "    '''\n",
    "    dist_act = list()\n",
    "    #Compute distance plot only for acts in two subtrees\n",
    "    for act in data_gt.keys():\n",
    "        if (act in data_predict.keys()):\n",
    "            dist_scene = list()\n",
    "            #Compute distance plot only for scenes in two subtrees\n",
    "            for scene in data_gt[act].keys():\n",
    "                if (scene in data_predict[act].keys()):\n",
    "                    dist_scene.append(distance_scenes(data_gt, data_predict, act, scene))\n",
    "            dist_act.append(dist_scene)\n",
    "            \n",
    "    # Set style\n",
    "    sns.set_style(\"darkgrid\")\n",
    "\n",
    "    # color palette\n",
    "    colors = ['tab:orange', 'tab:blue', 'tab:red', 'tab:green']\n",
    "    \n",
    "    # Plot\n",
    "    df = pd.DataFrame(dist_act).T.reset_index()\n",
    "    for col in range(1, df.shape[1]):\n",
    "        df.rename(columns={col-1: str(col)}, inplace=True)\n",
    "    for i, col in enumerate(df.columns[1:]):\n",
    "        sns.scatterplot(data=df, x=\"index\", y=col, color=colors[i])\n",
    "        sns.lineplot(data=df, x=\"index\", y=col, color=colors[i])\n",
    "        \n",
    "    # Add Labels and legend\n",
    "    plt.xlabel(f\"Scene\")\n",
    "    plt.ylabel(f\"Number of errors\")\n",
    "    plt.title(f'Error plot of \"{libretto}\" libretto');\n",
    "    plt.legend(bbox_to_anchor=(0., -0.35, 1., .102), loc='lower center',\n",
    "               ncol=2, mode=\"expand\", borderaxespad=0., \n",
    "               labels = [\"Act \" + str(i) for i in range(1, df.shape[1])])"
   ]
  },
  {
   "cell_type": "code",
   "execution_count": 9,
   "metadata": {},
   "outputs": [
    {
     "data": {
      "image/png": "[encoded data removed]",
      "text/plain": [
       "<Figure size 432x288 with 1 Axes>"
      ]
     },
     "metadata": {},
     "output_type": "display_data"
    }
   ],
   "source": [
    "# Load data\n",
    "libretto = \"Antigone\"\n",
    "data_gt = load_json_in_dict(\"./data/\"+libretto+\"/3_Network/network_truth.json\")\n",
    "data_predict = load_json_in_dict(\"./data/\"+libretto+\"/3_Network/network.json\")\n",
    "\n",
    "# Error plot of chosen libretto\n",
    "plot_distances(libretto, data_gt, data_predict)"
   ]
  },
  {
   "cell_type": "code",
   "execution_count": null,
   "metadata": {},
   "outputs": [],
   "source": []
  }
 ],
 "metadata": {
  "kernelspec": {
   "display_name": "dh_segment",
   "language": "python",
   "name": "dh_segment"
  },
  "language_info": {
   "codemirror_mode": {
    "name": "ipython",
    "version": 3
   },
   "file_extension": ".py",
   "mimetype": "text/x-python",
   "name": "python",
   "nbconvert_exporter": "python",
   "pygments_lexer": "ipython3",
   "version": "3.6.12"
  },
  "toc": {
   "base_numbering": 1,
   "nav_menu": {},
   "number_sections": true,
   "sideBar": true,
   "skip_h1_title": false,
   "title_cell": "Table of Contents",
   "title_sidebar": "Contents",
   "toc_cell": false,
   "toc_position": {},
   "toc_section_display": true,
   "toc_window_display": false
  }
 },
 "nbformat": 4,
 "nbformat_minor": 4
}
