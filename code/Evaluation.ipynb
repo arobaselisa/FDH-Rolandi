{
 "cells": [
  {
   "cell_type": "code",
   "execution_count": 19,
   "metadata": {},
   "outputs": [
    {
     "name": "stdout",
     "output_type": "stream",
     "text": [
      "<class 'zss.simple_tree.Node'>\n"
     ]
    }
   ],
   "source": [
    "from zss import simple_distance, Node\n",
    "import json\n",
    "import pandas as pd\n",
    "import matplotlib.pyplot as plt\n",
    "\n",
    "A = (\n",
    "    Node(\"f\")\n",
    "        .addkid(Node(\"a\")\n",
    "            .addkid(Node(\"h\"))\n",
    "            .addkid(Node(\"c\")\n",
    "                .addkid(Node(\"l\"))))\n",
    "        .addkid(Node(\"e\"))\n",
    "    )\n",
    "B = (\n",
    "    Node(\"f\")\n",
    "        .addkid(Node(\"a\")\n",
    "            .addkid(Node(\"d\"))\n",
    "            .addkid(Node(\"c\")\n",
    "                .addkid(Node(\"b\"))))\n",
    "        .addkid(Node(\"e\"))\n",
    "    )\n",
    "print(type(A))\n",
    "assert simple_distance(A, B) == 2"
   ]
  },
  {
   "cell_type": "code",
   "execution_count": 2,
   "metadata": {},
   "outputs": [],
   "source": [
    "def load_json_in_dict(path):\n",
    "    ''' \n",
    "    Loads ordered dictionnary of bounds per pages and per coordinates from a json file\n",
    "    :param string path: where all data of libretto is stored, as explained above\n",
    "    '''\n",
    "    with open(path) as json_file: \n",
    "        return json.load(json_file)"
   ]
  },
  {
   "cell_type": "code",
   "execution_count": 5,
   "metadata": {},
   "outputs": [],
   "source": [
    "def create_tree(libretto, gt = False):\n",
    "    # Load data\n",
    "    data = \"\"\n",
    "    if gt:\n",
    "        data = load_json_in_dict(\"./data/\"+libretto+\"/3_Network/network_truth.json\")\n",
    "    else:\n",
    "        data = load_json_in_dict(\"./data/\"+libretto+\"/3_Network/network.json\")\n",
    "    # Create links\n",
    "    tree = Node(libretto)\n",
    "    for act in data.keys():\n",
    "        node_act = Node(act)\n",
    "        for scene in data[act].keys():\n",
    "            node_scene = Node(scene)\n",
    "            for char in data[act][scene].keys():\n",
    "                for i in range(data[act][scene][char]):\n",
    "                    node_scene.addkid(Node(char))\n",
    "            node_act.addkid(node_scene)\n",
    "        tree.addkid(node_act)\n",
    "    return (tree)"
   ]
  },
  {
   "cell_type": "code",
   "execution_count": 26,
   "metadata": {},
   "outputs": [
    {
     "data": {
      "text/plain": [
       "258.0"
      ]
     },
     "execution_count": 26,
     "metadata": {},
     "output_type": "execute_result"
    }
   ],
   "source": [
    "gt_tree = create_tree(\"Gli\", gt = True)\n",
    "predicted_tree = create_tree(\"Gli\", gt = False)\n",
    "simple_distance(gt_tree, predicted_tree)"
   ]
  },
  {
   "cell_type": "code",
   "execution_count": 12,
   "metadata": {},
   "outputs": [],
   "source": [
    "def create_subtree(act, scene, data):\n",
    "    node_scene = Node(scene)\n",
    "    for char in data[act][scene].keys():\n",
    "        for i in range(data[act][scene][char]):\n",
    "            node_scene.addkid(Node(char))\n",
    "    return node_scene"
   ]
  },
  {
   "cell_type": "code",
   "execution_count": 13,
   "metadata": {},
   "outputs": [],
   "source": [
    "def distance_scenes(libretto, act, scene):\n",
    "    # Load data\n",
    "    data_gt = load_json_in_dict(\"./data/\"+libretto+\"/3_Network/network_truth.json\")\n",
    "    data_predict = load_json_in_dict(\"./data/\"+libretto+\"/3_Network/network.json\")\n",
    "        \n",
    "    # Create links\n",
    "    node_scene_gt = create_subtree(act, scene, data_gt)\n",
    "    node_scene_predict = create_subtree(act, scene, data_predict)\n",
    "    \n",
    "    dist = simple_distance(node_scene_gt, node_scene_predict) \n",
    "    return dist"
   ]
  },
  {
   "cell_type": "code",
   "execution_count": 14,
   "metadata": {},
   "outputs": [],
   "source": [
    "def plot_distances(libretto, data_gt, data_predict): \n",
    "    dist_act = list()\n",
    "    for act in data_gt.keys():\n",
    "        if (act in data_predict.keys()):\n",
    "            dist_scene = list()\n",
    "            for scene in data_gt[act].keys():\n",
    "                if (scene in data_predict[act].keys()):\n",
    "                   # print(data_predict[act].keys())\n",
    "                    dist_scene.append(distance_scenes(libretto, act, scene))\n",
    "            dist_act.append(dist_scene)\n",
    "    return dist_act"
   ]
  },
  {
   "cell_type": "code",
   "execution_count": 23,
   "metadata": {},
   "outputs": [],
   "source": [
    "# Load data\n",
    "libretto = \"Gli\"\n",
    "data_gt = load_json_in_dict(\"./data/\"+libretto+\"/3_Network/network_truth.json\")\n",
    "data_predict = load_json_in_dict(\"./data/\"+libretto+\"/3_Network/network.json\")\n",
    "\n",
    "dist = plot_distances(libretto, data_gt, data_predict)"
   ]
  },
  {
   "cell_type": "code",
   "execution_count": 25,
   "metadata": {},
   "outputs": [
    {
     "data": {
      "text/plain": [
       "[<matplotlib.lines.Line2D at 0x7ffb08c57970>]"
      ]
     },
     "execution_count": 25,
     "metadata": {},
     "output_type": "execute_result"
    },
    {
     "data": {
      "image/png": "[encoded data removed]",
      "text/plain": [
       "<Figure size 432x288 with 1 Axes>"
      ]
     },
     "metadata": {
      "needs_background": "light"
     },
     "output_type": "display_data"
    }
   ],
   "source": [
    "plt.plot(dist[0])\n",
    "plt.plot(dist[1])"
   ]
  },
  {
   "cell_type": "code",
   "execution_count": null,
   "metadata": {},
   "outputs": [],
   "source": []
  }
 ],
 "metadata": {
  "kernelspec": {
   "display_name": "Python [conda env:anaconda3-fdh] *",
   "language": "python",
   "name": "conda-env-anaconda3-fdh-py"
  },
  "language_info": {
   "codemirror_mode": {
    "name": "ipython",
    "version": 3
   },
   "file_extension": ".py",
   "mimetype": "text/x-python",
   "name": "python",
   "nbconvert_exporter": "python",
   "pygments_lexer": "ipython3",
   "version": "3.8.5"
  }
 },
 "nbformat": 4,
 "nbformat_minor": 4
}
